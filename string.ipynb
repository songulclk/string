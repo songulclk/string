{
 "cells": [
  {
   "cell_type": "code",
   "execution_count": null,
   "id": "95fc0626-1c7e-4b65-9089-7330ff12fbf3",
   "metadata": {},
   "outputs": [],
   "source": []
  },
  {
   "cell_type": "code",
   "execution_count": 6,
   "id": "ba3689db-38ba-48d3-b0e6-f56445967ce7",
   "metadata": {},
   "outputs": [
    {
     "name": "stdout",
     "output_type": "stream",
     "text": [
      "Name Surname\n"
     ]
    }
   ],
   "source": [
    "yourname='name'\n",
    "yoursurname= 'surname'\n",
    "yourname=yourname.capitalize()\n",
    "yoursurname=yoursurname.capitalize()\n",
    "print('{} {}'.format(yourname,yoursurname))"
   ]
  },
  {
   "cell_type": "code",
   "execution_count": null,
   "id": "387ef590-9d19-40d6-8950-9833ea3cd1a6",
   "metadata": {},
   "outputs": [],
   "source": []
  },
  {
   "cell_type": "code",
   "execution_count": 7,
   "id": "96d8efaf-7f5d-4d3d-a37f-3cb0fbe289de",
   "metadata": {},
   "outputs": [
    {
     "data": {
      "text/plain": [
       "32"
      ]
     },
     "execution_count": 7,
     "metadata": {},
     "output_type": "execute_result"
    }
   ],
   "source": [
    "firstline='Deep into that darkness peering,'\n",
    "len(firstline)"
   ]
  },
  {
   "cell_type": "code",
   "execution_count": null,
   "id": "5da627e5-80e4-41fd-b599-8544e0c212ce",
   "metadata": {},
   "outputs": [],
   "source": []
  },
  {
   "cell_type": "code",
   "execution_count": 8,
   "id": "8295d3f1-af10-44db-8260-848b3c59a864",
   "metadata": {},
   "outputs": [
    {
     "data": {
      "text/plain": [
       "'Deep into that darkness peering,'"
      ]
     },
     "execution_count": 8,
     "metadata": {},
     "output_type": "execute_result"
    }
   ],
   "source": [
    "firstline[:]"
   ]
  },
  {
   "cell_type": "code",
   "execution_count": null,
   "id": "4dd71ab3-3856-4772-858c-b3dd2be2f2fe",
   "metadata": {},
   "outputs": [],
   "source": []
  },
  {
   "cell_type": "code",
   "execution_count": 9,
   "id": "9ebeaf5f-475b-4060-bf0e-5e72cf8af1c1",
   "metadata": {},
   "outputs": [
    {
     "name": "stdout",
     "output_type": "stream",
     "text": [
      "Deep into that darkness peering,\n"
     ]
    }
   ],
   "source": [
    "firstline=firstline.strip()\n",
    "print(firstline)"
   ]
  }
 ],
 "metadata": {
  "kernelspec": {
   "display_name": "Python 3 (ipykernel)",
   "language": "python",
   "name": "python3"
  },
  "language_info": {
   "codemirror_mode": {
    "name": "ipython",
    "version": 3
   },
   "file_extension": ".py",
   "mimetype": "text/x-python",
   "name": "python",
   "nbconvert_exporter": "python",
   "pygments_lexer": "ipython3",
   "version": "3.9.12"
  }
 },
 "nbformat": 4,
 "nbformat_minor": 5
}
