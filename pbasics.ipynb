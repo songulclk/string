{
 "cells": [
  {
   "cell_type": "code",
   "execution_count": null,
   "id": "e50e6309-7be0-44f8-9458-788abb2071ed",
   "metadata": {},
   "outputs": [],
   "source": []
  },
  {
   "cell_type": "code",
   "execution_count": 74,
   "id": "9525040b-eb6a-48cb-8575-cea0b2a2a52d",
   "metadata": {},
   "outputs": [
    {
     "name": "stdout",
     "output_type": "stream",
     "text": [
      "siva trc\n"
     ]
    }
   ],
   "source": [
    "name='siva'\n",
    "surname='trc'\n",
    "print(name,surname) "
   ]
  },
  {
   "cell_type": "code",
   "execution_count": null,
   "id": "7c696bfa-f316-4dc4-9218-d24ab74aa009",
   "metadata": {},
   "outputs": [],
   "source": []
  },
  {
   "cell_type": "code",
   "execution_count": 72,
   "id": "0169b7dc-5a86-4c81-a7a2-41a30d17d0c5",
   "metadata": {},
   "outputs": [
    {
     "name": "stdout",
     "output_type": "stream",
     "text": [
      "siva \n",
      " trc\n"
     ]
    }
   ],
   "source": [
    "print(name,'\\n',surname)"
   ]
  },
  {
   "cell_type": "code",
   "execution_count": null,
   "id": "3a191af2-bef8-4953-b098-f480c9798f13",
   "metadata": {},
   "outputs": [],
   "source": []
  },
  {
   "cell_type": "code",
   "execution_count": 94,
   "id": "c84c88e6-6893-4d9e-a681-ac2468d20729",
   "metadata": {},
   "outputs": [
    {
     "name": "stdout",
     "output_type": "stream",
     "text": [
      "I dont want to be an 'artist' . I want to be a 'Data scientist'\n"
     ]
    }
   ],
   "source": [
    "a=\"'artist'\"\n",
    "d=\"'Data scientist'\"\n",
    "print('I dont want to be an {} . I want to be a {}'.format(a,d))\n"
   ]
  },
  {
   "cell_type": "code",
   "execution_count": null,
   "id": "6ab99265-22e8-46b5-9c6a-623d4dbc35b7",
   "metadata": {},
   "outputs": [],
   "source": []
  }
 ],
 "metadata": {
  "kernelspec": {
   "display_name": "Python 3 (ipykernel)",
   "language": "python",
   "name": "python3"
  },
  "language_info": {
   "codemirror_mode": {
    "name": "ipython",
    "version": 3
   },
   "file_extension": ".py",
   "mimetype": "text/x-python",
   "name": "python",
   "nbconvert_exporter": "python",
   "pygments_lexer": "ipython3",
   "version": "3.9.12"
  }
 },
 "nbformat": 4,
 "nbformat_minor": 5
}
