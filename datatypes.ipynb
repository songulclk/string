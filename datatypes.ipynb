{
 "cells": [
  {
   "cell_type": "code",
   "execution_count": null,
   "id": "2de40a04-e2b9-4fd9-a02a-713f8c17d57e",
   "metadata": {},
   "outputs": [],
   "source": []
  },
  {
   "cell_type": "code",
   "execution_count": 24,
   "id": "69f721a8-7138-4cb9-ba4a-10194e87d650",
   "metadata": {},
   "outputs": [
    {
     "name": "stdout",
     "output_type": "stream",
     "text": [
      "0.0003583180799999999\n",
      "2210.6814074060812\n"
     ]
    }
   ],
   "source": [
    "#Data Types Assignment\n",
    "#answer to Q1\n",
    "k=1000\n",
    "r=0.12\n",
    "t=7\n",
    "growth=k*0.12**7\n",
    "print(growth)\n",
    "total= k*(1+r)**7\n",
    "print(total)"
   ]
  },
  {
   "cell_type": "code",
   "execution_count": null,
   "id": "82890359-37b6-4b4f-82a5-0a419cc21af4",
   "metadata": {},
   "outputs": [],
   "source": []
  },
  {
   "cell_type": "code",
   "execution_count": 29,
   "id": "84655bf4-2cb5-49a3-bbea-4b060b646deb",
   "metadata": {},
   "outputs": [
    {
     "name": "stdout",
     "output_type": "stream",
     "text": [
      "When we buy bitcon with 1000 USD at the beginning of the week, we would earn 1120.0 USD at the end of the week, with an average gain of 0.12\n"
     ]
    }
   ],
   "source": [
    "#answerto Q2\n",
    "k=1000\n",
    "r=0.12\n",
    "total2=k*(1+r)\n",
    "print('When we buy bitcon with {} USD at the beginning of the week, we would earn {} USD at the end of the week, with an average gain of {}'.format(k,total2,r))"
   ]
  },
  {
   "cell_type": "code",
   "execution_count": null,
   "id": "37f5169d-4c41-4d22-9ad2-ba4264defdbb",
   "metadata": {},
   "outputs": [],
   "source": []
  },
  {
   "cell_type": "code",
   "execution_count": 37,
   "id": "bc7980d4-437c-45f8-b79b-0e421fa2f5dd",
   "metadata": {},
   "outputs": [
    {
     "name": "stdout",
     "output_type": "stream",
     "text": [
      "-3.3333333333333335\n"
     ]
    }
   ],
   "source": [
    "#answer to Q3\n",
    "F= 26\n",
    "C= (5/9)* (F-32)\n",
    "print (C)\n"
   ]
  },
  {
   "cell_type": "code",
   "execution_count": null,
   "id": "ba481eb7-45b6-45a5-ae43-fadbb1f5181c",
   "metadata": {},
   "outputs": [],
   "source": []
  },
  {
   "cell_type": "code",
   "execution_count": 59,
   "id": "fac7cede-ab56-41d0-989a-dd300c214906",
   "metadata": {},
   "outputs": [
    {
     "name": "stdout",
     "output_type": "stream",
     "text": [
      "10.0\n"
     ]
    }
   ],
   "source": [
    "#answer to q5\n",
    "s1=6\n",
    "s2=8\n",
    "hip=(s1**2+s2**2)**(1/2)\n",
    "\n",
    "print(hip)"
   ]
  }
 ],
 "metadata": {
  "kernelspec": {
   "display_name": "Python 3 (ipykernel)",
   "language": "python",
   "name": "python3"
  },
  "language_info": {
   "codemirror_mode": {
    "name": "ipython",
    "version": 3
   },
   "file_extension": ".py",
   "mimetype": "text/x-python",
   "name": "python",
   "nbconvert_exporter": "python",
   "pygments_lexer": "ipython3",
   "version": "3.9.12"
  }
 },
 "nbformat": 4,
 "nbformat_minor": 5
}
